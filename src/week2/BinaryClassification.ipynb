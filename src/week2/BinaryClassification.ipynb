{
 "cells": [
  {
   "cell_type": "markdown",
   "metadata": {},
   "source": []
  },
  {
   "cell_type": "code",
   "execution_count": 1,
   "metadata": {},
   "outputs": [
    {
     "name": "stdout",
     "output_type": "stream",
     "text": [
      "Collecting en-core-web-sm==3.4.1\n",
      "  Downloading https://github.com/explosion/spacy-models/releases/download/en_core_web_sm-3.4.1/en_core_web_sm-3.4.1-py3-none-any.whl (12.8 MB)\n",
      "\u001b[2K     \u001b[90m━━━━━━━━━━━━━━━━━━━━━━━━━━━━━━━━━━━━━━━━\u001b[0m \u001b[32m12.8/12.8 MB\u001b[0m \u001b[31m3.7 MB/s\u001b[0m eta \u001b[36m0:00:00\u001b[0m00:01\u001b[0m00:01\u001b[0m\n",
      "\u001b[?25hRequirement already satisfied: spacy<3.5.0,>=3.4.0 in /home/wangqiongyan/miniconda3/lib/python3.9/site-packages (from en-core-web-sm==3.4.1) (3.4.2)\n",
      "Requirement already satisfied: setuptools in /home/wangqiongyan/miniconda3/lib/python3.9/site-packages (from spacy<3.5.0,>=3.4.0->en-core-web-sm==3.4.1) (63.4.1)\n",
      "Requirement already satisfied: cymem<2.1.0,>=2.0.2 in /home/wangqiongyan/miniconda3/lib/python3.9/site-packages (from spacy<3.5.0,>=3.4.0->en-core-web-sm==3.4.1) (2.0.7)\n",
      "Requirement already satisfied: preshed<3.1.0,>=3.0.2 in /home/wangqiongyan/miniconda3/lib/python3.9/site-packages (from spacy<3.5.0,>=3.4.0->en-core-web-sm==3.4.1) (3.0.8)\n",
      "Requirement already satisfied: packaging>=20.0 in /home/wangqiongyan/miniconda3/lib/python3.9/site-packages (from spacy<3.5.0,>=3.4.0->en-core-web-sm==3.4.1) (21.3)\n",
      "Requirement already satisfied: tqdm<5.0.0,>=4.38.0 in /home/wangqiongyan/miniconda3/lib/python3.9/site-packages (from spacy<3.5.0,>=3.4.0->en-core-web-sm==3.4.1) (4.64.1)\n",
      "Requirement already satisfied: wasabi<1.1.0,>=0.9.1 in /home/wangqiongyan/miniconda3/lib/python3.9/site-packages (from spacy<3.5.0,>=3.4.0->en-core-web-sm==3.4.1) (0.10.1)\n",
      "Requirement already satisfied: requests<3.0.0,>=2.13.0 in /home/wangqiongyan/miniconda3/lib/python3.9/site-packages (from spacy<3.5.0,>=3.4.0->en-core-web-sm==3.4.1) (2.28.1)\n",
      "Requirement already satisfied: numpy>=1.15.0 in /home/wangqiongyan/miniconda3/lib/python3.9/site-packages (from spacy<3.5.0,>=3.4.0->en-core-web-sm==3.4.1) (1.23.3)\n",
      "Requirement already satisfied: langcodes<4.0.0,>=3.2.0 in /home/wangqiongyan/miniconda3/lib/python3.9/site-packages (from spacy<3.5.0,>=3.4.0->en-core-web-sm==3.4.1) (3.3.0)\n",
      "Requirement already satisfied: pathy>=0.3.5 in /home/wangqiongyan/miniconda3/lib/python3.9/site-packages (from spacy<3.5.0,>=3.4.0->en-core-web-sm==3.4.1) (0.6.2)\n",
      "Requirement already satisfied: pydantic!=1.8,!=1.8.1,<1.11.0,>=1.7.4 in /home/wangqiongyan/miniconda3/lib/python3.9/site-packages (from spacy<3.5.0,>=3.4.0->en-core-web-sm==3.4.1) (1.10.2)\n",
      "Requirement already satisfied: typer<0.5.0,>=0.3.0 in /home/wangqiongyan/miniconda3/lib/python3.9/site-packages (from spacy<3.5.0,>=3.4.0->en-core-web-sm==3.4.1) (0.4.2)\n",
      "Requirement already satisfied: thinc<8.2.0,>=8.1.0 in /home/wangqiongyan/miniconda3/lib/python3.9/site-packages (from spacy<3.5.0,>=3.4.0->en-core-web-sm==3.4.1) (8.1.5)\n",
      "Requirement already satisfied: spacy-legacy<3.1.0,>=3.0.10 in /home/wangqiongyan/miniconda3/lib/python3.9/site-packages (from spacy<3.5.0,>=3.4.0->en-core-web-sm==3.4.1) (3.0.10)\n",
      "Requirement already satisfied: murmurhash<1.1.0,>=0.28.0 in /home/wangqiongyan/miniconda3/lib/python3.9/site-packages (from spacy<3.5.0,>=3.4.0->en-core-web-sm==3.4.1) (1.0.9)\n",
      "Requirement already satisfied: srsly<3.0.0,>=2.4.3 in /home/wangqiongyan/miniconda3/lib/python3.9/site-packages (from spacy<3.5.0,>=3.4.0->en-core-web-sm==3.4.1) (2.4.5)\n",
      "Requirement already satisfied: spacy-loggers<2.0.0,>=1.0.0 in /home/wangqiongyan/miniconda3/lib/python3.9/site-packages (from spacy<3.5.0,>=3.4.0->en-core-web-sm==3.4.1) (1.0.3)\n",
      "Requirement already satisfied: catalogue<2.1.0,>=2.0.6 in /home/wangqiongyan/miniconda3/lib/python3.9/site-packages (from spacy<3.5.0,>=3.4.0->en-core-web-sm==3.4.1) (2.0.8)\n",
      "Requirement already satisfied: jinja2 in /home/wangqiongyan/miniconda3/lib/python3.9/site-packages (from spacy<3.5.0,>=3.4.0->en-core-web-sm==3.4.1) (3.1.2)\n",
      "Requirement already satisfied: pyparsing!=3.0.5,>=2.0.2 in /home/wangqiongyan/miniconda3/lib/python3.9/site-packages (from packaging>=20.0->spacy<3.5.0,>=3.4.0->en-core-web-sm==3.4.1) (3.0.9)\n",
      "Requirement already satisfied: smart-open<6.0.0,>=5.2.1 in /home/wangqiongyan/miniconda3/lib/python3.9/site-packages (from pathy>=0.3.5->spacy<3.5.0,>=3.4.0->en-core-web-sm==3.4.1) (5.2.1)\n",
      "Requirement already satisfied: typing-extensions>=4.1.0 in /home/wangqiongyan/miniconda3/lib/python3.9/site-packages (from pydantic!=1.8,!=1.8.1,<1.11.0,>=1.7.4->spacy<3.5.0,>=3.4.0->en-core-web-sm==3.4.1) (4.3.0)\n",
      "Requirement already satisfied: charset-normalizer<3,>=2 in /home/wangqiongyan/miniconda3/lib/python3.9/site-packages (from requests<3.0.0,>=2.13.0->spacy<3.5.0,>=3.4.0->en-core-web-sm==3.4.1) (2.0.4)\n",
      "Requirement already satisfied: idna<4,>=2.5 in /home/wangqiongyan/miniconda3/lib/python3.9/site-packages (from requests<3.0.0,>=2.13.0->spacy<3.5.0,>=3.4.0->en-core-web-sm==3.4.1) (3.4)\n",
      "Requirement already satisfied: certifi>=2017.4.17 in /home/wangqiongyan/miniconda3/lib/python3.9/site-packages (from requests<3.0.0,>=2.13.0->spacy<3.5.0,>=3.4.0->en-core-web-sm==3.4.1) (2022.9.24)\n",
      "Requirement already satisfied: urllib3<1.27,>=1.21.1 in /home/wangqiongyan/miniconda3/lib/python3.9/site-packages (from requests<3.0.0,>=2.13.0->spacy<3.5.0,>=3.4.0->en-core-web-sm==3.4.1) (1.26.11)\n",
      "Requirement already satisfied: blis<0.8.0,>=0.7.8 in /home/wangqiongyan/miniconda3/lib/python3.9/site-packages (from thinc<8.2.0,>=8.1.0->spacy<3.5.0,>=3.4.0->en-core-web-sm==3.4.1) (0.7.9)\n",
      "Requirement already satisfied: confection<1.0.0,>=0.0.1 in /home/wangqiongyan/miniconda3/lib/python3.9/site-packages (from thinc<8.2.0,>=8.1.0->spacy<3.5.0,>=3.4.0->en-core-web-sm==3.4.1) (0.0.3)\n",
      "Requirement already satisfied: click<9.0.0,>=7.1.1 in /home/wangqiongyan/miniconda3/lib/python3.9/site-packages (from typer<0.5.0,>=0.3.0->spacy<3.5.0,>=3.4.0->en-core-web-sm==3.4.1) (8.1.3)\n",
      "Requirement already satisfied: MarkupSafe>=2.0 in /home/wangqiongyan/miniconda3/lib/python3.9/site-packages (from jinja2->spacy<3.5.0,>=3.4.0->en-core-web-sm==3.4.1) (2.1.1)\n",
      "Installing collected packages: en-core-web-sm\n",
      "Successfully installed en-core-web-sm-3.4.1\n",
      "\u001b[38;5;2m✔ Download and installation successful\u001b[0m\n",
      "You can now load the package via spacy.load('en_core_web_sm')\n",
      "Collecting ja-core-news-sm==3.4.0\n",
      "  Downloading https://github.com/explosion/spacy-models/releases/download/ja_core_news_sm-3.4.0/ja_core_news_sm-3.4.0-py3-none-any.whl (12.0 MB)\n",
      "\u001b[2K     \u001b[90m━━━━━━━━━━━━━━━━━━━━━━━━━━━━━━━━━━━━━━━━\u001b[0m \u001b[32m12.0/12.0 MB\u001b[0m \u001b[31m3.7 MB/s\u001b[0m eta \u001b[36m0:00:00\u001b[0m00:01\u001b[0m00:01\u001b[0m\n",
      "\u001b[?25hCollecting sudachipy!=0.6.1,>=0.5.2\n",
      "  Downloading SudachiPy-0.6.6-cp39-cp39-manylinux_2_5_x86_64.manylinux1_x86_64.manylinux_2_12_x86_64.manylinux2010_x86_64.whl (2.2 MB)\n",
      "\u001b[2K     \u001b[90m━━━━━━━━━━━━━━━━━━━━━━━━━━━━━━━━━━━━━━━━\u001b[0m \u001b[32m2.2/2.2 MB\u001b[0m \u001b[31m3.8 MB/s\u001b[0m eta \u001b[36m0:00:00\u001b[0ma \u001b[36m0:00:01\u001b[0m\n",
      "\u001b[?25hCollecting sudachidict-core>=20211220\n",
      "  Downloading SudachiDict-core-20221021.tar.gz (9.0 kB)\n",
      "  Preparing metadata (setup.py) ... \u001b[?25ldone\n",
      "\u001b[?25hRequirement already satisfied: spacy<3.5.0,>=3.4.0 in /home/wangqiongyan/miniconda3/lib/python3.9/site-packages (from ja-core-news-sm==3.4.0) (3.4.2)\n",
      "Requirement already satisfied: jinja2 in /home/wangqiongyan/miniconda3/lib/python3.9/site-packages (from spacy<3.5.0,>=3.4.0->ja-core-news-sm==3.4.0) (3.1.2)\n",
      "Requirement already satisfied: catalogue<2.1.0,>=2.0.6 in /home/wangqiongyan/miniconda3/lib/python3.9/site-packages (from spacy<3.5.0,>=3.4.0->ja-core-news-sm==3.4.0) (2.0.8)\n",
      "Requirement already satisfied: spacy-legacy<3.1.0,>=3.0.10 in /home/wangqiongyan/miniconda3/lib/python3.9/site-packages (from spacy<3.5.0,>=3.4.0->ja-core-news-sm==3.4.0) (3.0.10)\n",
      "Requirement already satisfied: spacy-loggers<2.0.0,>=1.0.0 in /home/wangqiongyan/miniconda3/lib/python3.9/site-packages (from spacy<3.5.0,>=3.4.0->ja-core-news-sm==3.4.0) (1.0.3)\n",
      "Requirement already satisfied: thinc<8.2.0,>=8.1.0 in /home/wangqiongyan/miniconda3/lib/python3.9/site-packages (from spacy<3.5.0,>=3.4.0->ja-core-news-sm==3.4.0) (8.1.5)\n",
      "Requirement already satisfied: cymem<2.1.0,>=2.0.2 in /home/wangqiongyan/miniconda3/lib/python3.9/site-packages (from spacy<3.5.0,>=3.4.0->ja-core-news-sm==3.4.0) (2.0.7)\n",
      "Requirement already satisfied: typer<0.5.0,>=0.3.0 in /home/wangqiongyan/miniconda3/lib/python3.9/site-packages (from spacy<3.5.0,>=3.4.0->ja-core-news-sm==3.4.0) (0.4.2)\n",
      "Requirement already satisfied: murmurhash<1.1.0,>=0.28.0 in /home/wangqiongyan/miniconda3/lib/python3.9/site-packages (from spacy<3.5.0,>=3.4.0->ja-core-news-sm==3.4.0) (1.0.9)\n",
      "Requirement already satisfied: pydantic!=1.8,!=1.8.1,<1.11.0,>=1.7.4 in /home/wangqiongyan/miniconda3/lib/python3.9/site-packages (from spacy<3.5.0,>=3.4.0->ja-core-news-sm==3.4.0) (1.10.2)\n",
      "Requirement already satisfied: srsly<3.0.0,>=2.4.3 in /home/wangqiongyan/miniconda3/lib/python3.9/site-packages (from spacy<3.5.0,>=3.4.0->ja-core-news-sm==3.4.0) (2.4.5)\n",
      "Requirement already satisfied: preshed<3.1.0,>=3.0.2 in /home/wangqiongyan/miniconda3/lib/python3.9/site-packages (from spacy<3.5.0,>=3.4.0->ja-core-news-sm==3.4.0) (3.0.8)\n",
      "Requirement already satisfied: numpy>=1.15.0 in /home/wangqiongyan/miniconda3/lib/python3.9/site-packages (from spacy<3.5.0,>=3.4.0->ja-core-news-sm==3.4.0) (1.23.3)\n",
      "Requirement already satisfied: packaging>=20.0 in /home/wangqiongyan/miniconda3/lib/python3.9/site-packages (from spacy<3.5.0,>=3.4.0->ja-core-news-sm==3.4.0) (21.3)\n",
      "Requirement already satisfied: requests<3.0.0,>=2.13.0 in /home/wangqiongyan/miniconda3/lib/python3.9/site-packages (from spacy<3.5.0,>=3.4.0->ja-core-news-sm==3.4.0) (2.28.1)\n",
      "Requirement already satisfied: tqdm<5.0.0,>=4.38.0 in /home/wangqiongyan/miniconda3/lib/python3.9/site-packages (from spacy<3.5.0,>=3.4.0->ja-core-news-sm==3.4.0) (4.64.1)\n",
      "Requirement already satisfied: wasabi<1.1.0,>=0.9.1 in /home/wangqiongyan/miniconda3/lib/python3.9/site-packages (from spacy<3.5.0,>=3.4.0->ja-core-news-sm==3.4.0) (0.10.1)\n",
      "Requirement already satisfied: langcodes<4.0.0,>=3.2.0 in /home/wangqiongyan/miniconda3/lib/python3.9/site-packages (from spacy<3.5.0,>=3.4.0->ja-core-news-sm==3.4.0) (3.3.0)\n",
      "Requirement already satisfied: pathy>=0.3.5 in /home/wangqiongyan/miniconda3/lib/python3.9/site-packages (from spacy<3.5.0,>=3.4.0->ja-core-news-sm==3.4.0) (0.6.2)\n",
      "Requirement already satisfied: setuptools in /home/wangqiongyan/miniconda3/lib/python3.9/site-packages (from spacy<3.5.0,>=3.4.0->ja-core-news-sm==3.4.0) (63.4.1)\n",
      "Requirement already satisfied: pyparsing!=3.0.5,>=2.0.2 in /home/wangqiongyan/miniconda3/lib/python3.9/site-packages (from packaging>=20.0->spacy<3.5.0,>=3.4.0->ja-core-news-sm==3.4.0) (3.0.9)\n",
      "Requirement already satisfied: smart-open<6.0.0,>=5.2.1 in /home/wangqiongyan/miniconda3/lib/python3.9/site-packages (from pathy>=0.3.5->spacy<3.5.0,>=3.4.0->ja-core-news-sm==3.4.0) (5.2.1)\n",
      "Requirement already satisfied: typing-extensions>=4.1.0 in /home/wangqiongyan/miniconda3/lib/python3.9/site-packages (from pydantic!=1.8,!=1.8.1,<1.11.0,>=1.7.4->spacy<3.5.0,>=3.4.0->ja-core-news-sm==3.4.0) (4.3.0)\n",
      "Requirement already satisfied: urllib3<1.27,>=1.21.1 in /home/wangqiongyan/miniconda3/lib/python3.9/site-packages (from requests<3.0.0,>=2.13.0->spacy<3.5.0,>=3.4.0->ja-core-news-sm==3.4.0) (1.26.11)\n",
      "Requirement already satisfied: idna<4,>=2.5 in /home/wangqiongyan/miniconda3/lib/python3.9/site-packages (from requests<3.0.0,>=2.13.0->spacy<3.5.0,>=3.4.0->ja-core-news-sm==3.4.0) (3.4)\n",
      "Requirement already satisfied: charset-normalizer<3,>=2 in /home/wangqiongyan/miniconda3/lib/python3.9/site-packages (from requests<3.0.0,>=2.13.0->spacy<3.5.0,>=3.4.0->ja-core-news-sm==3.4.0) (2.0.4)\n",
      "Requirement already satisfied: certifi>=2017.4.17 in /home/wangqiongyan/miniconda3/lib/python3.9/site-packages (from requests<3.0.0,>=2.13.0->spacy<3.5.0,>=3.4.0->ja-core-news-sm==3.4.0) (2022.9.24)\n",
      "Requirement already satisfied: confection<1.0.0,>=0.0.1 in /home/wangqiongyan/miniconda3/lib/python3.9/site-packages (from thinc<8.2.0,>=8.1.0->spacy<3.5.0,>=3.4.0->ja-core-news-sm==3.4.0) (0.0.3)\n",
      "Requirement already satisfied: blis<0.8.0,>=0.7.8 in /home/wangqiongyan/miniconda3/lib/python3.9/site-packages (from thinc<8.2.0,>=8.1.0->spacy<3.5.0,>=3.4.0->ja-core-news-sm==3.4.0) (0.7.9)\n",
      "Requirement already satisfied: click<9.0.0,>=7.1.1 in /home/wangqiongyan/miniconda3/lib/python3.9/site-packages (from typer<0.5.0,>=0.3.0->spacy<3.5.0,>=3.4.0->ja-core-news-sm==3.4.0) (8.1.3)\n",
      "Requirement already satisfied: MarkupSafe>=2.0 in /home/wangqiongyan/miniconda3/lib/python3.9/site-packages (from jinja2->spacy<3.5.0,>=3.4.0->ja-core-news-sm==3.4.0) (2.1.1)\n",
      "Building wheels for collected packages: sudachidict-core\n",
      "  Building wheel for sudachidict-core (setup.py) ... \u001b[?25ldone\n",
      "\u001b[?25h  Created wheel for sudachidict-core: filename=SudachiDict_core-20221021-py3-none-any.whl size=71574765 sha256=e00c62d1ad59b0235d9e3c974f13ec2cb9e026ec8ec9df965424bcb72adb2ba7\n",
      "  Stored in directory: /home/wangqiongyan/.cache/pip/wheels/b1/ac/2a/b3cf430406460459f11724d251243abba719494b60caa31210\n",
      "Successfully built sudachidict-core\n",
      "Installing collected packages: sudachipy, sudachidict-core, ja-core-news-sm\n",
      "Successfully installed ja-core-news-sm-3.4.0 sudachidict-core-20221021 sudachipy-0.6.6\n",
      "\u001b[38;5;2m✔ Download and installation successful\u001b[0m\n",
      "You can now load the package via spacy.load('ja_core_news_sm')\n",
      "Collecting fi-core-news-sm==3.4.0\n",
      "  Downloading https://github.com/explosion/spacy-models/releases/download/fi_core_news_sm-3.4.0/fi_core_news_sm-3.4.0-py3-none-any.whl (14.3 MB)\n",
      "\u001b[2K     \u001b[90m━━━━━━━━━━━━━━━━━━━━━━━━━━━━━━━━━━━━━━━━\u001b[0m \u001b[32m14.3/14.3 MB\u001b[0m \u001b[31m3.7 MB/s\u001b[0m eta \u001b[36m0:00:00\u001b[0m00:01\u001b[0m00:01\u001b[0m\n",
      "\u001b[?25hRequirement already satisfied: spacy<3.5.0,>=3.4.0 in /home/wangqiongyan/miniconda3/lib/python3.9/site-packages (from fi-core-news-sm==3.4.0) (3.4.2)\n",
      "Requirement already satisfied: srsly<3.0.0,>=2.4.3 in /home/wangqiongyan/miniconda3/lib/python3.9/site-packages (from spacy<3.5.0,>=3.4.0->fi-core-news-sm==3.4.0) (2.4.5)\n",
      "Requirement already satisfied: packaging>=20.0 in /home/wangqiongyan/miniconda3/lib/python3.9/site-packages (from spacy<3.5.0,>=3.4.0->fi-core-news-sm==3.4.0) (21.3)\n",
      "Requirement already satisfied: pydantic!=1.8,!=1.8.1,<1.11.0,>=1.7.4 in /home/wangqiongyan/miniconda3/lib/python3.9/site-packages (from spacy<3.5.0,>=3.4.0->fi-core-news-sm==3.4.0) (1.10.2)\n",
      "Requirement already satisfied: tqdm<5.0.0,>=4.38.0 in /home/wangqiongyan/miniconda3/lib/python3.9/site-packages (from spacy<3.5.0,>=3.4.0->fi-core-news-sm==3.4.0) (4.64.1)\n",
      "Requirement already satisfied: preshed<3.1.0,>=3.0.2 in /home/wangqiongyan/miniconda3/lib/python3.9/site-packages (from spacy<3.5.0,>=3.4.0->fi-core-news-sm==3.4.0) (3.0.8)\n",
      "Requirement already satisfied: jinja2 in /home/wangqiongyan/miniconda3/lib/python3.9/site-packages (from spacy<3.5.0,>=3.4.0->fi-core-news-sm==3.4.0) (3.1.2)\n",
      "Requirement already satisfied: cymem<2.1.0,>=2.0.2 in /home/wangqiongyan/miniconda3/lib/python3.9/site-packages (from spacy<3.5.0,>=3.4.0->fi-core-news-sm==3.4.0) (2.0.7)\n",
      "Requirement already satisfied: requests<3.0.0,>=2.13.0 in /home/wangqiongyan/miniconda3/lib/python3.9/site-packages (from spacy<3.5.0,>=3.4.0->fi-core-news-sm==3.4.0) (2.28.1)\n",
      "Requirement already satisfied: catalogue<2.1.0,>=2.0.6 in /home/wangqiongyan/miniconda3/lib/python3.9/site-packages (from spacy<3.5.0,>=3.4.0->fi-core-news-sm==3.4.0) (2.0.8)\n",
      "Requirement already satisfied: wasabi<1.1.0,>=0.9.1 in /home/wangqiongyan/miniconda3/lib/python3.9/site-packages (from spacy<3.5.0,>=3.4.0->fi-core-news-sm==3.4.0) (0.10.1)\n",
      "Requirement already satisfied: pathy>=0.3.5 in /home/wangqiongyan/miniconda3/lib/python3.9/site-packages (from spacy<3.5.0,>=3.4.0->fi-core-news-sm==3.4.0) (0.6.2)\n",
      "Requirement already satisfied: typer<0.5.0,>=0.3.0 in /home/wangqiongyan/miniconda3/lib/python3.9/site-packages (from spacy<3.5.0,>=3.4.0->fi-core-news-sm==3.4.0) (0.4.2)\n",
      "Requirement already satisfied: spacy-legacy<3.1.0,>=3.0.10 in /home/wangqiongyan/miniconda3/lib/python3.9/site-packages (from spacy<3.5.0,>=3.4.0->fi-core-news-sm==3.4.0) (3.0.10)\n",
      "Requirement already satisfied: thinc<8.2.0,>=8.1.0 in /home/wangqiongyan/miniconda3/lib/python3.9/site-packages (from spacy<3.5.0,>=3.4.0->fi-core-news-sm==3.4.0) (8.1.5)\n",
      "Requirement already satisfied: langcodes<4.0.0,>=3.2.0 in /home/wangqiongyan/miniconda3/lib/python3.9/site-packages (from spacy<3.5.0,>=3.4.0->fi-core-news-sm==3.4.0) (3.3.0)\n",
      "Requirement already satisfied: murmurhash<1.1.0,>=0.28.0 in /home/wangqiongyan/miniconda3/lib/python3.9/site-packages (from spacy<3.5.0,>=3.4.0->fi-core-news-sm==3.4.0) (1.0.9)\n",
      "Requirement already satisfied: numpy>=1.15.0 in /home/wangqiongyan/miniconda3/lib/python3.9/site-packages (from spacy<3.5.0,>=3.4.0->fi-core-news-sm==3.4.0) (1.23.3)\n",
      "Requirement already satisfied: setuptools in /home/wangqiongyan/miniconda3/lib/python3.9/site-packages (from spacy<3.5.0,>=3.4.0->fi-core-news-sm==3.4.0) (63.4.1)\n",
      "Requirement already satisfied: spacy-loggers<2.0.0,>=1.0.0 in /home/wangqiongyan/miniconda3/lib/python3.9/site-packages (from spacy<3.5.0,>=3.4.0->fi-core-news-sm==3.4.0) (1.0.3)\n",
      "Requirement already satisfied: pyparsing!=3.0.5,>=2.0.2 in /home/wangqiongyan/miniconda3/lib/python3.9/site-packages (from packaging>=20.0->spacy<3.5.0,>=3.4.0->fi-core-news-sm==3.4.0) (3.0.9)\n",
      "Requirement already satisfied: smart-open<6.0.0,>=5.2.1 in /home/wangqiongyan/miniconda3/lib/python3.9/site-packages (from pathy>=0.3.5->spacy<3.5.0,>=3.4.0->fi-core-news-sm==3.4.0) (5.2.1)\n",
      "Requirement already satisfied: typing-extensions>=4.1.0 in /home/wangqiongyan/miniconda3/lib/python3.9/site-packages (from pydantic!=1.8,!=1.8.1,<1.11.0,>=1.7.4->spacy<3.5.0,>=3.4.0->fi-core-news-sm==3.4.0) (4.3.0)\n",
      "Requirement already satisfied: certifi>=2017.4.17 in /home/wangqiongyan/miniconda3/lib/python3.9/site-packages (from requests<3.0.0,>=2.13.0->spacy<3.5.0,>=3.4.0->fi-core-news-sm==3.4.0) (2022.9.24)\n",
      "Requirement already satisfied: urllib3<1.27,>=1.21.1 in /home/wangqiongyan/miniconda3/lib/python3.9/site-packages (from requests<3.0.0,>=2.13.0->spacy<3.5.0,>=3.4.0->fi-core-news-sm==3.4.0) (1.26.11)\n",
      "Requirement already satisfied: idna<4,>=2.5 in /home/wangqiongyan/miniconda3/lib/python3.9/site-packages (from requests<3.0.0,>=2.13.0->spacy<3.5.0,>=3.4.0->fi-core-news-sm==3.4.0) (3.4)\n",
      "Requirement already satisfied: charset-normalizer<3,>=2 in /home/wangqiongyan/miniconda3/lib/python3.9/site-packages (from requests<3.0.0,>=2.13.0->spacy<3.5.0,>=3.4.0->fi-core-news-sm==3.4.0) (2.0.4)\n",
      "Requirement already satisfied: confection<1.0.0,>=0.0.1 in /home/wangqiongyan/miniconda3/lib/python3.9/site-packages (from thinc<8.2.0,>=8.1.0->spacy<3.5.0,>=3.4.0->fi-core-news-sm==3.4.0) (0.0.3)\n",
      "Requirement already satisfied: blis<0.8.0,>=0.7.8 in /home/wangqiongyan/miniconda3/lib/python3.9/site-packages (from thinc<8.2.0,>=8.1.0->spacy<3.5.0,>=3.4.0->fi-core-news-sm==3.4.0) (0.7.9)\n",
      "Requirement already satisfied: click<9.0.0,>=7.1.1 in /home/wangqiongyan/miniconda3/lib/python3.9/site-packages (from typer<0.5.0,>=0.3.0->spacy<3.5.0,>=3.4.0->fi-core-news-sm==3.4.0) (8.1.3)\n",
      "Requirement already satisfied: MarkupSafe>=2.0 in /home/wangqiongyan/miniconda3/lib/python3.9/site-packages (from jinja2->spacy<3.5.0,>=3.4.0->fi-core-news-sm==3.4.0) (2.1.1)\n",
      "Installing collected packages: fi-core-news-sm\n",
      "Successfully installed fi-core-news-sm-3.4.0\n",
      "\u001b[38;5;2m✔ Download and installation successful\u001b[0m\n",
      "You can now load the package via spacy.load('fi_core_news_sm')\n"
     ]
    }
   ],
   "source": [
    "!python -m spacy download en_core_web_sm\n",
    "!python -m spacy download ja_core_news_sm\n",
    "!python -m spacy download fi_core_news_sm"
   ]
  },
  {
   "cell_type": "code",
   "execution_count": 2,
   "metadata": {},
   "outputs": [
    {
     "name": "stdout",
     "output_type": "stream",
     "text": [
      "Requirement already satisfied: spacy in /home/wangqiongyan/miniconda3/lib/python3.9/site-packages (3.4.2)\n",
      "Requirement already satisfied: requests<3.0.0,>=2.13.0 in /home/wangqiongyan/miniconda3/lib/python3.9/site-packages (from spacy) (2.28.1)\n",
      "Requirement already satisfied: pathy>=0.3.5 in /home/wangqiongyan/miniconda3/lib/python3.9/site-packages (from spacy) (0.6.2)\n",
      "Requirement already satisfied: packaging>=20.0 in /home/wangqiongyan/miniconda3/lib/python3.9/site-packages (from spacy) (21.3)\n",
      "Requirement already satisfied: numpy>=1.15.0 in /home/wangqiongyan/miniconda3/lib/python3.9/site-packages (from spacy) (1.23.3)\n",
      "Requirement already satisfied: setuptools in /home/wangqiongyan/miniconda3/lib/python3.9/site-packages (from spacy) (63.4.1)\n",
      "Requirement already satisfied: preshed<3.1.0,>=3.0.2 in /home/wangqiongyan/miniconda3/lib/python3.9/site-packages (from spacy) (3.0.8)\n",
      "Requirement already satisfied: spacy-loggers<2.0.0,>=1.0.0 in /home/wangqiongyan/miniconda3/lib/python3.9/site-packages (from spacy) (1.0.3)\n",
      "Requirement already satisfied: pydantic!=1.8,!=1.8.1,<1.11.0,>=1.7.4 in /home/wangqiongyan/miniconda3/lib/python3.9/site-packages (from spacy) (1.10.2)\n",
      "Requirement already satisfied: spacy-legacy<3.1.0,>=3.0.10 in /home/wangqiongyan/miniconda3/lib/python3.9/site-packages (from spacy) (3.0.10)\n",
      "Requirement already satisfied: thinc<8.2.0,>=8.1.0 in /home/wangqiongyan/miniconda3/lib/python3.9/site-packages (from spacy) (8.1.5)\n",
      "Requirement already satisfied: jinja2 in /home/wangqiongyan/miniconda3/lib/python3.9/site-packages (from spacy) (3.1.2)\n",
      "Requirement already satisfied: murmurhash<1.1.0,>=0.28.0 in /home/wangqiongyan/miniconda3/lib/python3.9/site-packages (from spacy) (1.0.9)\n",
      "Requirement already satisfied: tqdm<5.0.0,>=4.38.0 in /home/wangqiongyan/miniconda3/lib/python3.9/site-packages (from spacy) (4.64.1)\n",
      "Requirement already satisfied: langcodes<4.0.0,>=3.2.0 in /home/wangqiongyan/miniconda3/lib/python3.9/site-packages (from spacy) (3.3.0)\n",
      "Requirement already satisfied: catalogue<2.1.0,>=2.0.6 in /home/wangqiongyan/miniconda3/lib/python3.9/site-packages (from spacy) (2.0.8)\n",
      "Requirement already satisfied: cymem<2.1.0,>=2.0.2 in /home/wangqiongyan/miniconda3/lib/python3.9/site-packages (from spacy) (2.0.7)\n",
      "Requirement already satisfied: typer<0.5.0,>=0.3.0 in /home/wangqiongyan/miniconda3/lib/python3.9/site-packages (from spacy) (0.4.2)\n",
      "Requirement already satisfied: srsly<3.0.0,>=2.4.3 in /home/wangqiongyan/miniconda3/lib/python3.9/site-packages (from spacy) (2.4.5)\n",
      "Requirement already satisfied: wasabi<1.1.0,>=0.9.1 in /home/wangqiongyan/miniconda3/lib/python3.9/site-packages (from spacy) (0.10.1)\n",
      "Requirement already satisfied: pyparsing!=3.0.5,>=2.0.2 in /home/wangqiongyan/miniconda3/lib/python3.9/site-packages (from packaging>=20.0->spacy) (3.0.9)\n",
      "Requirement already satisfied: smart-open<6.0.0,>=5.2.1 in /home/wangqiongyan/miniconda3/lib/python3.9/site-packages (from pathy>=0.3.5->spacy) (5.2.1)\n",
      "Requirement already satisfied: typing-extensions>=4.1.0 in /home/wangqiongyan/miniconda3/lib/python3.9/site-packages (from pydantic!=1.8,!=1.8.1,<1.11.0,>=1.7.4->spacy) (4.3.0)\n",
      "Requirement already satisfied: certifi>=2017.4.17 in /home/wangqiongyan/miniconda3/lib/python3.9/site-packages (from requests<3.0.0,>=2.13.0->spacy) (2022.9.24)\n",
      "Requirement already satisfied: idna<4,>=2.5 in /home/wangqiongyan/miniconda3/lib/python3.9/site-packages (from requests<3.0.0,>=2.13.0->spacy) (3.4)\n",
      "Requirement already satisfied: charset-normalizer<3,>=2 in /home/wangqiongyan/miniconda3/lib/python3.9/site-packages (from requests<3.0.0,>=2.13.0->spacy) (2.0.4)\n",
      "Requirement already satisfied: urllib3<1.27,>=1.21.1 in /home/wangqiongyan/miniconda3/lib/python3.9/site-packages (from requests<3.0.0,>=2.13.0->spacy) (1.26.11)\n",
      "Requirement already satisfied: confection<1.0.0,>=0.0.1 in /home/wangqiongyan/miniconda3/lib/python3.9/site-packages (from thinc<8.2.0,>=8.1.0->spacy) (0.0.3)\n",
      "Requirement already satisfied: blis<0.8.0,>=0.7.8 in /home/wangqiongyan/miniconda3/lib/python3.9/site-packages (from thinc<8.2.0,>=8.1.0->spacy) (0.7.9)\n",
      "Requirement already satisfied: click<9.0.0,>=7.1.1 in /home/wangqiongyan/miniconda3/lib/python3.9/site-packages (from typer<0.5.0,>=0.3.0->spacy) (8.1.3)\n",
      "Requirement already satisfied: MarkupSafe>=2.0 in /home/wangqiongyan/miniconda3/lib/python3.9/site-packages (from jinja2->spacy) (2.1.1)\n"
     ]
    }
   ],
   "source": [
    "!pip install spacy"
   ]
  },
  {
   "cell_type": "code",
   "execution_count": 2,
   "metadata": {},
   "outputs": [
    {
     "name": "stderr",
     "output_type": "stream",
     "text": [
      "/home/wangqiongyan/miniconda3/lib/python3.9/site-packages/tqdm/auto.py:22: TqdmWarning: IProgress not found. Please update jupyter and ipywidgets. See https://ipywidgets.readthedocs.io/en/stable/user_install.html\n",
      "  from .autonotebook import tqdm as notebook_tqdm\n"
     ]
    },
    {
     "data": {
      "text/plain": [
       "<torch._C.Generator at 0x7fd20fc5fe10>"
      ]
     },
     "execution_count": 2,
     "metadata": {},
     "output_type": "execute_result"
    }
   ],
   "source": [
    "import gensim\n",
    "import torchtext\n",
    "import spacy\n",
    "import torch.utils.data as Data\n",
    "import numpy as np\n",
    "import pandas as pd\n",
    "from tqdm.autonotebook import tqdm\n",
    "from datasets import load_dataset\n",
    "from torchtext.data.utils import get_tokenizer\n",
    "from collections import Counter\n",
    "from torchtext.vocab import Vocab\n",
    "from matplotlib import pyplot as plt\n",
    "from collections import OrderedDict\n",
    "from sentence_transformers import SentenceTransformer\n",
    "from sklearn.metrics import classification_report, confusion_matrix\n",
    "from sklearn.feature_extraction.text import TfidfVectorizer\n",
    "\n",
    "import torch\n",
    "import torch.nn as nn\n",
    "import torch.nn.functional as F\n",
    "import torch.optim as optim\n",
    "\n",
    "\n",
    "torch.manual_seed(123)"
   ]
  },
  {
   "cell_type": "code",
   "execution_count": 3,
   "metadata": {},
   "outputs": [],
   "source": [
    "# epochs\n",
    "epochs = 150\n",
    "# batch size\n",
    "batch_size = 128\n",
    "# learning rate\n",
    "lr = 0.0001\n",
    "\n",
    "\n",
    "# model parameters\n",
    "input_dim = 384\n",
    "hidden_dim = 256\n",
    "output_dim = 2\n",
    "\n",
    "vocab = False\n",
    "language_train = [\"english\"]\n",
    "language_val = [\"english\"]\n",
    "model_type = \"regression\""
   ]
  },
  {
   "cell_type": "code",
   "execution_count": 4,
   "metadata": {},
   "outputs": [],
   "source": [
    "if vocab:\n",
    "    if language_train == [\"english\"]:\n",
    "        tokenizer = spacy.load(\"en_core_web_sm\")\n",
    "    elif language_train == [\"japanese\"]:\n",
    "        tokenizer = spacy.load(\"ja_core_news_sm\")\n",
    "    elif language_train == [\"finnish\"]:\n",
    "        tokenizer = spacy.load(\"fi_core_news_sm\")\n",
    "    else:\n",
    "        print(\"bow model cant be multilingual\")"
   ]
  },
  {
   "cell_type": "code",
   "execution_count": 5,
   "metadata": {},
   "outputs": [
    {
     "name": "stderr",
     "output_type": "stream",
     "text": [
      "Using custom data configuration copenlu--nlp_course_tydiqa-cceecfb5416d988a\n",
      "Reusing dataset parquet (/home/wangqiongyan/.cache/huggingface/datasets/copenlu___parquet/copenlu--nlp_course_tydiqa-cceecfb5416d988a/0.0.0/2a3b91fbd88a2c90d1dbbb32b460cf621d31bd5b05b934492fdef7d8d6f236ec)\n",
      "100%|██████████| 2/2 [00:00<00:00, 1238.35it/s]\n"
     ]
    }
   ],
   "source": [
    "dataset = load_dataset(\"copenlu/answerable_tydiqa\")\n",
    "train_set = dataset[\"train\"]\n",
    "validation_set = dataset[\"validation\"]"
   ]
  },
  {
   "cell_type": "code",
   "execution_count": 6,
   "metadata": {},
   "outputs": [],
   "source": [
    "def getLanguageDataSet(data, language):\n",
    "    def printAndL(x):\n",
    "        return x[\"language\"] in language\n",
    "    return data.filter(printAndL)"
   ]
  },
  {
   "cell_type": "code",
   "execution_count": 7,
   "metadata": {},
   "outputs": [],
   "source": [
    "def build_vocab(dataSet, tokenizer):\n",
    "    counter = Counter()\n",
    "    for data in dataSet:\n",
    "        counter.update([token.text for token in tokenizer(data['document_plaintext'])])\n",
    "    return Vocab(counter)"
   ]
  },
  {
   "cell_type": "code",
   "execution_count": 8,
   "metadata": {},
   "outputs": [],
   "source": [
    "def getWord2VecModel(train_dataSet, test_dataSet, tokenizer):\n",
    "    sentences = []\n",
    "    keys = [\"document_plaintext\", \"question_text\"]\n",
    "    print(\"train data to vec:\")\n",
    "    for element in tqdm(train_dataSet):\n",
    "        for key in keys:\n",
    "            sentences.append([token.text for token in tokenizer(element[key])])\n",
    "    print(\"val data to vec:\")\n",
    "    for element in tqdm(test_dataSet):\n",
    "        for key in keys:\n",
    "            sentences.append([token.text for token in tokenizer(element[key])])\n",
    "    \n",
    "    w2v_model = gensim.models.Word2Vec(sentences, vector_size=input_dim, min_count=1, window=5, epochs=3)\n",
    "\n",
    "    return w2v_model"
   ]
  },
  {
   "cell_type": "code",
   "execution_count": 9,
   "metadata": {},
   "outputs": [],
   "source": [
    "def data_process_vocab(dataSet, w2vModel, tokenizer, tokenPart=\"document\"):\n",
    "    data = []\n",
    "    for element in tqdm(dataSet):\n",
    "        if tokenPart == \"document\":\n",
    "            en_tensor_ = torch.tensor([w2vModel.wv.get_vector(token) for token in [token_.text for token_ in tokenizer(element[\"document_plaintext\"])]], dtype=torch.float32)\n",
    "            en_tensor_ = torch.mean(en_tensor_, dim=0, keepdim=True).cuda()\n",
    "            data.append(en_tensor_)\n",
    "        elif tokenPart == \"question\":\n",
    "            en_tensor_ = torch.tensor([w2vModel.wv.get_vector(token) for token in [token_.text for token_ in tokenizer(element[\"question_text\"])]], dtype=torch.float32)\n",
    "            en_tensor_ = torch.mean(en_tensor_, dim=0, keepdim=True).cuda()\n",
    "            data.append(en_tensor_)\n",
    "        elif tokenPart == \"answer\":\n",
    "            if (element[\"annotations\"][\"answer_start\"] == [-1]):\n",
    "                data.append(torch.tensor([0], dtype=torch.int64).cuda())\n",
    "            else:\n",
    "                data.append(torch.tensor([1], dtype=torch.int64).cuda())\n",
    "    return torch.cat(data, dim=0)\n",
    "\n",
    "def data_process_sentence(dataSet, SbertModel, tokenPart=\"document\"):\n",
    "    data = []\n",
    "    for element in tqdm(dataSet):\n",
    "        if tokenPart == \"document\":\n",
    "            en_tensor_ = torch.tensor([SbertModel.encode(element[\"document_plaintext\"])], dtype=torch.float32).cuda()\n",
    "            data.append(en_tensor_)\n",
    "        elif tokenPart == \"question\":\n",
    "            en_tensor_ = torch.tensor([SbertModel.encode((element[\"question_text\"]))], dtype=torch.float32).cuda()\n",
    "            data.append(en_tensor_)\n",
    "        elif tokenPart == \"answer\":\n",
    "            if (element[\"annotations\"][\"answer_start\"] == [-1]):\n",
    "                data.append(torch.tensor([0], dtype=torch.int64).cuda())\n",
    "            else:\n",
    "                data.append(torch.tensor([1], dtype=torch.int64).cuda())\n",
    "    return torch.cat(data, dim=0)"
   ]
  },
  {
   "cell_type": "code",
   "execution_count": 10,
   "metadata": {},
   "outputs": [],
   "source": [
    "def getData(data, language):\n",
    "    print(\"get data:\")\n",
    "    dataset = getLanguageDataSet(data, language)\n",
    "    if vocab:\n",
    "        print(\"bow model:\")\n",
    "        # englishVocab = build_vocab(dataset, tokenizer)\n",
    "        model = getWord2VecModel(train_set, validation_set, tokenizer)\n",
    "        answer_set = data_process_vocab(dataset, model, tokenizer, \"answer\")\n",
    "        question_set = data_process_vocab(dataset, model, tokenizer, \"question\")\n",
    "        document_set = data_process_vocab(dataset, model, tokenizer, \"document\")\n",
    "    else:\n",
    "        print(\"sentence model:\")\n",
    "        model = SentenceTransformer('all-MiniLM-L6-v2')\n",
    "        answer_set = data_process_sentence(dataset, model, \"answer\")\n",
    "        question_set = data_process_sentence(dataset, model, \"question\")\n",
    "        document_set = data_process_sentence(dataset, model, \"document\")\n",
    "    \n",
    "    return answer_set, question_set, document_set"
   ]
  },
  {
   "cell_type": "code",
   "execution_count": 11,
   "metadata": {},
   "outputs": [
    {
     "name": "stderr",
     "output_type": "stream",
     "text": [
      "Loading cached processed dataset at /home/wangqiongyan/.cache/huggingface/datasets/copenlu___parquet/copenlu--nlp_course_tydiqa-cceecfb5416d988a/0.0.0/2a3b91fbd88a2c90d1dbbb32b460cf621d31bd5b05b934492fdef7d8d6f236ec/cache-4e64dec92aeba576.arrow\n"
     ]
    },
    {
     "name": "stdout",
     "output_type": "stream",
     "text": [
      "get data:\n",
      "sentence model:\n"
     ]
    },
    {
     "name": "stderr",
     "output_type": "stream",
     "text": [
      "100%|██████████| 8778/8778 [00:01<00:00, 5164.47it/s]\n",
      "  0%|          | 0/8778 [00:00<?, ?it/s]/tmp/ipykernel_2499336/1232469553.py:26: UserWarning: Creating a tensor from a list of numpy.ndarrays is extremely slow. Please consider converting the list to a single numpy.ndarray with numpy.array() before converting to a tensor. (Triggered internally at  ../torch/csrc/utils/tensor_new.cpp:201.)\n",
      "  en_tensor_ = torch.tensor([SbertModel.encode((element[\"question_text\"]))], dtype=torch.float32).cuda()\n",
      "100%|██████████| 8778/8778 [00:26<00:00, 334.70it/s]\n",
      "100%|██████████| 8778/8778 [00:30<00:00, 291.60it/s]\n",
      "Loading cached processed dataset at /home/wangqiongyan/.cache/huggingface/datasets/copenlu___parquet/copenlu--nlp_course_tydiqa-cceecfb5416d988a/0.0.0/2a3b91fbd88a2c90d1dbbb32b460cf621d31bd5b05b934492fdef7d8d6f236ec/cache-b3d1fc6829af69d9.arrow\n"
     ]
    },
    {
     "name": "stdout",
     "output_type": "stream",
     "text": [
      "get data:\n",
      "sentence model:\n"
     ]
    },
    {
     "name": "stderr",
     "output_type": "stream",
     "text": [
      "100%|██████████| 1036/1036 [00:00<00:00, 15852.28it/s]\n",
      "100%|██████████| 1036/1036 [00:03<00:00, 340.25it/s]\n",
      "100%|██████████| 1036/1036 [00:03<00:00, 284.11it/s]\n"
     ]
    }
   ],
   "source": [
    "# train_set\n",
    "answer_train_set, question_train_set, document_train_set = getData(train_set, language_train)\n",
    "# val_set\n",
    "answer_validation_set, question_validation_set, document_validation_set = getData(validation_set, language_val)"
   ]
  },
  {
   "cell_type": "code",
   "execution_count": 12,
   "metadata": {},
   "outputs": [],
   "source": [
    "class attention(nn.Module):\n",
    "    def __init__(self, hidden_dim, attn_drop):\n",
    "        super(attention, self).__init__()\n",
    "        self.fc = nn.Linear(hidden_dim, hidden_dim, bias=True)\n",
    "        nn.init.xavier_normal_(self.fc.weight, gain=1.414)\n",
    "\n",
    "        self.tanh = nn.Tanh()\n",
    "        self.att = nn.Parameter(torch.empty(size=(1, hidden_dim)), requires_grad=True)\n",
    "        nn.init.xavier_normal_(self.att.data, gain=1.414)\n",
    "\n",
    "        self.softmax = nn.Softmax()\n",
    "        if attn_drop:\n",
    "            self.attn_drop = nn.Dropout(attn_drop)\n",
    "        else:\n",
    "            self.attn_drop = lambda x: x\n",
    "\n",
    "    def forward(self, embeds):\n",
    "        beta = []\n",
    "        attn_curr = self.attn_drop(self.att)\n",
    "        for embed in embeds:\n",
    "            sp = self.tanh(self.fc(embed)).mean(dim=0)\n",
    "            beta.append(attn_curr.matmul(sp.t()))\n",
    "        beta = torch.cat(beta, dim=-1).view(-1)\n",
    "        beta = self.softmax(beta)\n",
    "        #print(ntype+\" mp \", beta.data.cpu().numpy())  # semantic attention\n",
    "        z_mp = 0\n",
    "        for i in range(len(embeds)):\n",
    "            z_mp = z_mp+ embeds[i]*beta[i]\n",
    "        return z_mp"
   ]
  },
  {
   "cell_type": "code",
   "execution_count": 13,
   "metadata": {},
   "outputs": [],
   "source": [
    "class QA_model(nn.Module):\n",
    "    def __init__(self,input_dim,hidden_dim,output_dim):\n",
    "        super(QA_model, self).__init__()\n",
    "        self.que_in_mlp = nn.Linear(input_dim,hidden_dim)\n",
    "        self.context_in_mlp = nn.Linear(input_dim,hidden_dim)\n",
    "        self.output_layer = nn.Linear(hidden_dim,output_dim)\n",
    "        self.attention_layer = attention(hidden_dim,0.5)\n",
    "\n",
    "    def forward(self,question,context):\n",
    "        q_vec = F.leaky_relu(self.que_in_mlp(question))\n",
    "        c_vec = F.leaky_relu(self.context_in_mlp(context))\n",
    "        attention_out = self.attention_layer([q_vec,c_vec])\n",
    "        predict_label = self.output_layer(attention_out)\n",
    "\n",
    "        return predict_label"
   ]
  },
  {
   "cell_type": "code",
   "execution_count": 14,
   "metadata": {},
   "outputs": [],
   "source": [
    "torch_dataset = Data.TensorDataset(question_train_set, document_train_set, answer_train_set)\n",
    "train_loader = Data.DataLoader(dataset=torch_dataset, batch_size=batch_size, shuffle=True)"
   ]
  },
  {
   "cell_type": "code",
   "execution_count": 17,
   "metadata": {},
   "outputs": [],
   "source": [
    "class QA_LR_model(nn.Module):\n",
    "    def __init__(self,input_dim,hidden_dim,output_dim):\n",
    "        super(QA_LR_model, self).__init__()\n",
    "        self.input_layer = nn.Linear(input_dim*2,hidden_dim)\n",
    "        self.relu_0 = nn.ReLU()\n",
    "        self.hidden_layer_0 = nn.Linear(hidden_dim,int(hidden_dim/2))\n",
    "        self.relu_1 = nn.ReLU()\n",
    "        # self.hidden_layer_1 = nn.Linear(hidden_dim*2,hidden_dim)\n",
    "        # self.relu_2 = nn.ReLU()\n",
    "        self.output_layer = nn.Linear(int(hidden_dim/2),output_dim)\n",
    "\n",
    "    def forward(self,data):\n",
    "        input = self.input_layer(data)\n",
    "        relu_0 = self.relu_0(input)\n",
    "        hidden_0 = self.hidden_layer_0(relu_0)\n",
    "        relu_1 = self.relu_1(hidden_0)\n",
    "        # hidden_1 = self.hidden_layer_1(relu_1)\n",
    "        # relu_2 = self.relu_2(hidden_1)\n",
    "        output = self.output_layer(relu_1)\n",
    "\n",
    "        return output\n",
    "# class QA_LR_model(nn.Module):\n",
    "#     def __init__(self,input_dim,hidden_dim,output_dim):\n",
    "#         super(QA_LR_model, self).__init__()\n",
    "#         self.input_layer = nn.Linear(input_dim*2,hidden_dim)\n",
    "#         self.relu_0 = nn.ReLU()\n",
    "#         self.hidden_layer_0 = nn.Linear(hidden_dim,hidden_dim*2)\n",
    "#         self.relu_1 = nn.ReLU()\n",
    "#         self.hidden_layer_1 = nn.Linear(hidden_dim*2,hidden_dim)\n",
    "#         self.relu_2 = nn.ReLU()\n",
    "#         self.output_layer = nn.Linear(hidden_dim,output_dim)\n",
    "\n",
    "#     def forward(self,data):\n",
    "#         input = self.input_layer(data)\n",
    "#         relu_0 = self.relu_0(input)\n",
    "#         hidden_0 = self.hidden_layer_0(relu_0)\n",
    "#         relu_1 = self.relu_1(hidden_0)\n",
    "#         hidden_1 = self.hidden_layer_1(relu_1)\n",
    "#         relu_2 = self.relu_2(hidden_1)\n",
    "#         output = F.sigmoid(self.output_layer(relu_0))\n",
    "\n",
    "#         return output"
   ]
  },
  {
   "cell_type": "code",
   "execution_count": 18,
   "metadata": {},
   "outputs": [],
   "source": [
    "if model_type == \"regression\":\n",
    "    # LR model define\n",
    "    model = QA_LR_model(input_dim, hidden_dim, output_dim).to('cuda')\n",
    "else:\n",
    "    # attention model define\n",
    "    model = QA_model(input_dim, hidden_dim, output_dim).to('cuda')"
   ]
  },
  {
   "cell_type": "code",
   "execution_count": 19,
   "metadata": {},
   "outputs": [],
   "source": [
    "# loss function\n",
    "criterion = nn.CrossEntropyLoss()\n",
    "\n",
    "# optimizer\n",
    "optimizer = torch.optim.Adam(model.parameters(), lr=lr, amsgrad=True)"
   ]
  },
  {
   "cell_type": "code",
   "execution_count": null,
   "metadata": {},
   "outputs": [],
   "source": [
    "# train\n",
    "max_acc = 0\n",
    "loss_list = []\n",
    "patience = 30\n",
    "count=0\n",
    "min_val_loss=100000\n",
    "for epoch in tqdm(range(250)):\n",
    "    model.train()\n",
    "    batch_num = 0\n",
    "    for question_vec, document_vec, label in train_loader:\n",
    "        if model_type == \"regression\":\n",
    "            data = torch.cat((question_vec, document_vec), 1)\n",
    "            predict_label = model(data)\n",
    "        else:\n",
    "            predict_label = model(question_vec, document_vec)\n",
    "        \n",
    "        loss = criterion(predict_label, label)\n",
    "\n",
    "        pred = predict_label.max(-1, keepdim=True)[1]\n",
    "        acc = pred.eq(label.view_as(pred)).sum().item() / predict_label.shape[0]\n",
    "        optimizer.zero_grad()\n",
    "\n",
    "\n",
    "        if (acc > max_acc):\n",
    "            max_acc = acc\n",
    "            torch.save(model.state_dict(), 'model.pth')\n",
    "        loss.backward()\n",
    "        optimizer.step()\n",
    "        batch_num += 1\n",
    "        loss_list.append(round(loss.item(), 4))\n",
    "    \n",
    "\n",
    "    if epoch % 5 == 0:\n",
    "        print(\"epoch:\", epoch, \"loss:\", round(loss.item(), 4), \"acc:\", acc)\n",
    "print(\"max acc:\", max_acc)\n",
    "\n",
    "plt.cla()\n",
    "plt.plot(loss_list)"
   ]
  },
  {
   "cell_type": "code",
   "execution_count": null,
   "metadata": {},
   "outputs": [],
   "source": [
    "model.load_state_dict(torch.load(\"model_eng.pth\"))\n",
    "\n",
    "if model_type == \"regression\":\n",
    "    val_input = torch.cat((question_validation_set, document_validation_set), 1)\n",
    "    predict_label = model(val_input)\n",
    "else:\n",
    "    predict_label = model(question_validation_set, document_validation_set)\n",
    "pred = predict_label.max(-1, keepdim=True)[1]\n",
    "label = answer_validation_set\n",
    "test_acc = pred.eq(label.view_as(pred)).sum().item() / predict_label.shape[0]\n"
   ]
  },
  {
   "cell_type": "code",
   "execution_count": null,
   "metadata": {},
   "outputs": [],
   "source": [
    "print(\"Languge:\",language_train[0])\n",
    "report = classification_report(label.cpu(), pred.cpu(), output_dict=True)\n",
    "pd.DataFrame(report).transpose()"
   ]
  }
 ],
 "metadata": {
  "interpreter": {
   "hash": "e03e133b68754b8be68a9fcfb5383d56ee34be33f062dddf7602ed056a352f3a"
  },
  "kernelspec": {
   "display_name": "Python 3.9.13 ('base')",
   "language": "python",
   "name": "python3"
  },
  "language_info": {
   "codemirror_mode": {
    "name": "ipython",
    "version": 3
   },
   "file_extension": ".py",
   "mimetype": "text/x-python",
   "name": "python",
   "nbconvert_exporter": "python",
   "pygments_lexer": "ipython3",
   "version": "3.9.13"
  },
  "orig_nbformat": 4
 },
 "nbformat": 4,
 "nbformat_minor": 2
}
