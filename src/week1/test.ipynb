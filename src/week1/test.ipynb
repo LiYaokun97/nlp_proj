{
 "cells": [
  {
   "cell_type": "code",
   "execution_count": 1,
   "metadata": {
    "collapsed": true,
    "pycharm": {
     "name": "#%%\n"
    }
   },
   "outputs": [],
   "source": [
    "import torch"
   ]
  },
  {
   "cell_type": "code",
   "execution_count": 2,
   "outputs": [
    {
     "name": "stderr",
     "output_type": "stream",
     "text": [
      "Using custom data configuration copenlu--nlp_course_tydiqa-9ffd3d37cf2899c6\n",
      "Reusing dataset parquet (/home/lyk/.cache/huggingface/datasets/copenlu___parquet/copenlu--nlp_course_tydiqa-9ffd3d37cf2899c6/0.0.0/2a3b91fbd88a2c90d1dbbb32b460cf621d31bd5b05b934492fdef7d8d6f236ec)\n"
     ]
    },
    {
     "data": {
      "text/plain": "  0%|          | 0/2 [00:00<?, ?it/s]",
      "application/vnd.jupyter.widget-view+json": {
       "version_major": 2,
       "version_minor": 0,
       "model_id": "ecf04f8d3ffe4efe969aa30fcdf540ec"
      }
     },
     "metadata": {},
     "output_type": "display_data"
    }
   ],
   "source": [
    "import torch\n",
    "\n",
    "from datasets import load_dataset\n",
    "dataset = load_dataset(\"copenlu/answerable_tydiqa\")\n",
    "train_set = dataset[\"train\"]\n",
    "validation_set = dataset[\"validation\"]"
   ],
   "metadata": {
    "collapsed": false,
    "pycharm": {
     "name": "#%%\n"
    }
   }
  },
  {
   "cell_type": "code",
   "execution_count": 3,
   "outputs": [
    {
     "data": {
      "text/plain": "DatasetDict({\n    validation: Dataset({\n        features: ['question_text', 'document_title', 'language', 'annotations', 'document_plaintext', 'document_url'],\n        num_rows: 13325\n    })\n    train: Dataset({\n        features: ['question_text', 'document_title', 'language', 'annotations', 'document_plaintext', 'document_url'],\n        num_rows: 116067\n    })\n})"
     },
     "execution_count": 3,
     "metadata": {},
     "output_type": "execute_result"
    }
   ],
   "source": [
    "dataset"
   ],
   "metadata": {
    "collapsed": false,
    "pycharm": {
     "name": "#%%\n"
    }
   }
  },
  {
   "cell_type": "code",
   "execution_count": 4,
   "outputs": [
    {
     "data": {
      "text/plain": "Dataset({\n    features: ['question_text', 'document_title', 'language', 'annotations', 'document_plaintext', 'document_url'],\n    num_rows: 13325\n})"
     },
     "execution_count": 4,
     "metadata": {},
     "output_type": "execute_result"
    }
   ],
   "source": [
    "validation_set"
   ],
   "metadata": {
    "collapsed": false,
    "pycharm": {
     "name": "#%%\n"
    }
   }
  },
  {
   "cell_type": "code",
   "execution_count": 8,
   "outputs": [
    {
     "data": {
      "text/plain": "{'question_text': 'Milloin Charles Fort syntyi?',\n 'document_title': 'Charles Fort',\n 'language': 'finnish',\n 'annotations': {'answer_start': [18],\n  'answer_text': ['6. elokuuta (joidenkin lähteiden mukaan 9.) 1874']},\n 'document_plaintext': 'Charles Hoy Fort (6. elokuuta (joidenkin lähteiden mukaan 9.) 1874 – 3. toukokuuta 1932) oli yhdysvaltalainen kirjailija ja paranormaalien ilmiöiden tutkija.',\n 'document_url': 'https://fi.wikipedia.org/wiki/Charles%20Fort'}"
     },
     "execution_count": 8,
     "metadata": {},
     "output_type": "execute_result"
    }
   ],
   "source": [
    "train_set[0]"
   ],
   "metadata": {
    "collapsed": false,
    "pycharm": {
     "name": "#%%\n"
    }
   }
  },
  {
   "cell_type": "code",
   "execution_count": 10,
   "outputs": [
    {
     "name": "stderr",
     "output_type": "stream",
     "text": [
      "Loading cached processed dataset at /home/lyk/.cache/huggingface/datasets/copenlu___parquet/copenlu--nlp_course_tydiqa-9ffd3d37cf2899c6/0.0.0/2a3b91fbd88a2c90d1dbbb32b460cf621d31bd5b05b934492fdef7d8d6f236ec/cache-4ef3ba659b2e9493.arrow\n"
     ]
    }
   ],
   "source": [
    "finnishSet = train_set.filter(lambda x: x['language'] == \"finnish\")"
   ],
   "metadata": {
    "collapsed": false,
    "pycharm": {
     "name": "#%%\n"
    }
   }
  },
  {
   "cell_type": "code",
   "execution_count": 12,
   "outputs": [
    {
     "data": {
      "text/plain": "  0%|          | 0/117 [00:00<?, ?ba/s]",
      "application/vnd.jupyter.widget-view+json": {
       "version_major": 2,
       "version_minor": 0,
       "model_id": "04e8c1a9c6f54adf89b5060062dfdfb4"
      }
     },
     "metadata": {},
     "output_type": "display_data"
    }
   ],
   "source": [
    "japaneseSet = train_set.filter(lambda x: x['language'] == \"japanese\")"
   ],
   "metadata": {
    "collapsed": false,
    "pycharm": {
     "name": "#%%\n"
    }
   }
  },
  {
   "cell_type": "code",
   "execution_count": 13,
   "outputs": [
    {
     "data": {
      "text/plain": "{'question_text': '“ダン” ダニエル・ジャドソン・キャラハンの出身はどこ',\n 'document_title': 'ダニエル・J・キャラハン',\n 'language': 'japanese',\n 'annotations': {'answer_start': [35], 'answer_text': ['カリフォルニア州サンフランシスコ']},\n 'document_plaintext': '“ダン”こと、ダニエル・ジャドソン・キャラハンは1890年7月26日、カリフォルニア州サンフランシスコに商社員チャールズ・ウィリアム・キャラハンとローズ・ウィーラー・キャラハンの子として生まれる[2][3]。弟は、のちに中将に昇進し戦艦ミズーリ (USS Missouri, BB-63) 艦長時代には、艦に突入した特攻隊員に礼を尽くした（アナポリス1918年組）[4]である。キャラハン家の信仰はローマ・カトリックであった[2][3]。キャラハンは海軍兵学校（アナポリス）に進む前にに入学して1907年に卒業したが、のちに弟ウィリアムも同じコースをたどった[1]。その後はアナポリスに進み、1911年に卒業。卒業年次から「アナポリス1911年組」と呼称されたこの世代からは沖縄戦で戦艦大和と対決し損なったモートン・デヨ、潜水艦部隊を率いたロバート・H・イングリッシュ[5]、室蘭艦砲射撃を行った[6]、空母任務群を率いたジョン・W・リーヴス[7]らがおり、のちに第三次ソロモン海戦でともに戦うノーマン・スコットも同期である[注釈 1]。卒業後は少尉候補生として装甲巡洋艦カリフォルニア (USS California, ACR-6) に配属され、8インチ砲の担当となる。1921年5月21日付で少尉に任官した[8]。',\n 'document_url': 'https://ja.wikipedia.org/wiki/%E3%83%80%E3%83%8B%E3%82%A8%E3%83%AB%E3%83%BBJ%E3%83%BB%E3%82%AD%E3%83%A3%E3%83%A9%E3%83%8F%E3%83%B3'}"
     },
     "execution_count": 13,
     "metadata": {},
     "output_type": "execute_result"
    }
   ],
   "source": [
    "japaneseSet[0]"
   ],
   "metadata": {
    "collapsed": false,
    "pycharm": {
     "name": "#%%\n"
    }
   }
  },
  {
   "cell_type": "code",
   "execution_count": 15,
   "outputs": [
    {
     "data": {
      "text/plain": "  0%|          | 0/117 [00:00<?, ?ba/s]",
      "application/vnd.jupyter.widget-view+json": {
       "version_major": 2,
       "version_minor": 0,
       "model_id": "4f98eafdd22c47e1b35a755e33ff581f"
      }
     },
     "metadata": {},
     "output_type": "display_data"
    }
   ],
   "source": [
    "englishSet = train_set.filter(lambda x: x['language'] == \"english\")"
   ],
   "metadata": {
    "collapsed": false,
    "pycharm": {
     "name": "#%%\n"
    }
   }
  },
  {
   "cell_type": "code",
   "execution_count": 16,
   "outputs": [
    {
     "data": {
      "text/plain": "{'question_text': 'When was quantum field theory developed?',\n 'document_title': 'Quantum field theory',\n 'language': 'english',\n 'annotations': {'answer_start': [159], 'answer_text': ['1920s']},\n 'document_plaintext': 'Quantum field theory naturally began with the study of electromagnetic interactions, as the electromagnetic field was the only known classical field as of the 1920s.[8]:1',\n 'document_url': 'https://en.wikipedia.org/wiki/Quantum%20field%20theory'}"
     },
     "execution_count": 16,
     "metadata": {},
     "output_type": "execute_result"
    }
   ],
   "source": [
    "englishSet[0]"
   ],
   "metadata": {
    "collapsed": false,
    "pycharm": {
     "name": "#%%\n"
    }
   }
  },
  {
   "cell_type": "code",
   "execution_count": 14,
   "outputs": [],
   "source": [
    "import torch\n",
    "from torchtext.data.utils import get_tokenizer\n",
    "from collections import Counter\n",
    "from torchtext.vocab import Vocab\n",
    "from torchtext.utils import download_from_url, extract_archive\n",
    "import io\n"
   ],
   "metadata": {
    "collapsed": false,
    "pycharm": {
     "name": "#%%\n"
    }
   }
  },
  {
   "cell_type": "code",
   "execution_count": 20,
   "outputs": [],
   "source": [
    "en_tokenizer = get_tokenizer('basic_english', language=\"en\")\n",
    "counter = Counter()\n",
    "counter.update(en_tokenizer(englishSet[0]['document_plaintext']))"
   ],
   "metadata": {
    "collapsed": false,
    "pycharm": {
     "name": "#%%\n"
    }
   }
  },
  {
   "cell_type": "code",
   "execution_count": 21,
   "outputs": [
    {
     "data": {
      "text/plain": "Counter({'quantum': 1,\n         'field': 3,\n         'theory': 1,\n         'naturally': 1,\n         'began': 1,\n         'with': 1,\n         'the': 4,\n         'study': 1,\n         'of': 2,\n         'electromagnetic': 2,\n         'interactions': 1,\n         ',': 1,\n         'as': 2,\n         'was': 1,\n         'only': 1,\n         'known': 1,\n         'classical': 1,\n         '1920s': 1,\n         '.': 1,\n         '[8]': 1,\n         '1': 1})"
     },
     "execution_count": 21,
     "metadata": {},
     "output_type": "execute_result"
    }
   ],
   "source": [
    "counter"
   ],
   "metadata": {
    "collapsed": false,
    "pycharm": {
     "name": "#%%\n"
    }
   }
  },
  {
   "cell_type": "code",
   "execution_count": 23,
   "outputs": [],
   "source": [
    "def build_vocab(dataSet, tokenizer):\n",
    "  counter = Counter()\n",
    "  for data in dataSet:\n",
    "    counter.update(tokenizer(data['document_plaintext']))\n",
    "  return Vocab(counter)\n",
    "\n",
    "en_vocab = build_vocab(englishSet, en_tokenizer)"
   ],
   "metadata": {
    "collapsed": false,
    "pycharm": {
     "name": "#%%\n"
    }
   }
  },
  {
   "cell_type": "code",
   "execution_count": 26,
   "outputs": [
    {
     "data": {
      "text/plain": "7195"
     },
     "execution_count": 26,
     "metadata": {},
     "output_type": "execute_result"
    }
   ],
   "source": [
    "en_vocab[\"is\"]"
   ],
   "metadata": {
    "collapsed": false,
    "pycharm": {
     "name": "#%%\n"
    }
   }
  },
  {
   "cell_type": "code",
   "execution_count": 27,
   "outputs": [
    {
     "name": "stdout",
     "output_type": "stream",
     "text": [
      "Quantum field theory naturally began with the study of electromagnetic interactions, as the electromagnetic field was the only known classical field as of the 1920s.[8]:1\n",
      "tensor([   17,   222,   159,    16,   377,  4714, 52657,   136, 26119,    32,\n",
      "           14, 44876,  6546, 52657,    32,   222,  7642, 52657,   748,   922,\n",
      "           63,   222,  6546, 26119, 52657,    26, 34334,   222,   824])\n"
     ]
    }
   ],
   "source": [
    "def data_process(dataSet):\n",
    "  data = []\n",
    "  for element in dataSet:\n",
    "    en_tensor_ = torch.tensor([en_vocab[token] for token in en_tokenizer(element[\"document_plaintext\"])], dtype=torch.long)\n",
    "    data.append(en_tensor_)\n",
    "  return data\n",
    "\n",
    "processedEnglishData = data_process(englishSet)\n",
    "print(englishSet[0][\"document_plaintext\"])\n",
    "print(processedEnglishData[0])"
   ],
   "metadata": {
    "collapsed": false,
    "pycharm": {
     "name": "#%%\n"
    }
   }
  },
  {
   "cell_type": "markdown",
   "source": [],
   "metadata": {
    "collapsed": false,
    "pycharm": {
     "name": "#%% md\n"
    }
   }
  },
  {
   "cell_type": "code",
   "execution_count": 30,
   "outputs": [
    {
     "data": {
      "text/plain": "0"
     },
     "execution_count": 30,
     "metadata": {},
     "output_type": "execute_result"
    }
   ],
   "source": [
    "a = []\n",
    "len(a)"
   ],
   "metadata": {
    "collapsed": false,
    "pycharm": {
     "name": "#%%\n"
    }
   }
  }
 ],
 "metadata": {
  "kernelspec": {
   "display_name": "Python 3",
   "language": "python",
   "name": "python3"
  },
  "language_info": {
   "codemirror_mode": {
    "name": "ipython",
    "version": 2
   },
   "file_extension": ".py",
   "mimetype": "text/x-python",
   "name": "python",
   "nbconvert_exporter": "python",
   "pygments_lexer": "ipython2",
   "version": "2.7.6"
  }
 },
 "nbformat": 4,
 "nbformat_minor": 0
}
